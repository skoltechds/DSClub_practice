{
 "cells": [
  {
   "cell_type": "markdown",
   "metadata": {
    "nbpresent": {
     "id": "050a87c9-a8b8-4d1d-a054-f14a93cbdd45"
    }
   },
   "source": [
    "# DSClub 1: Introduction into pytorch"
   ]
  },
  {
   "cell_type": "markdown",
   "metadata": {
    "nbpresent": {
     "id": "328d35b4-b97c-4f5e-aa49-e2881c745c9c"
    }
   },
   "source": [
    "## PyTorch"
   ]
  },
  {
   "cell_type": "code",
   "execution_count": 25,
   "metadata": {
    "collapsed": false,
    "nbpresent": {
     "id": "c34fc847-6051-431b-ad07-266999814f09"
    }
   },
   "outputs": [],
   "source": [
    "import torch\n",
    "import numpy as np"
   ]
  },
  {
   "cell_type": "markdown",
   "metadata": {
    "nbpresent": {
     "id": "676a3010-44f4-45d8-acf6-7f91b6e6241a"
    }
   },
   "source": [
    "### Creating tensors"
   ]
  },
  {
   "cell_type": "code",
   "execution_count": 27,
   "metadata": {
    "collapsed": false,
    "nbpresent": {
     "id": "3023c7b1-6362-41ca-a570-b6a96cbcfcaf"
    }
   },
   "outputs": [
    {
     "name": "stdout",
     "output_type": "stream",
     "text": [
      "Non-initialized tensor x: \n",
      " 0.0000e+00  0.0000e+00  1.4111e-19\n",
      " 4.5877e-41  1.3529e-19  4.5877e-41\n",
      " 1.5577e-12  4.5877e-41  1.5577e-12\n",
      " 4.5877e-41  1.5577e-12  4.5877e-41\n",
      " 8.9683e-44  0.0000e+00  4.6894e+27\n",
      "[torch.FloatTensor of size 5x3]\n",
      "\n",
      "Size: torch.Size([5, 3])\n",
      "\n",
      "\n",
      "Manually initialized tensor y: \n",
      " 1  2  3\n",
      " 4  5  6\n",
      " 7  8  9\n",
      "[torch.FloatTensor of size 3x3]\n",
      "\n",
      "Size: torch.Size([3, 3])\n",
      "\n",
      "\n",
      "Ramdomly initialized tensor z: \n",
      "-0.3200 -0.6171  0.1009 -1.5712\n",
      " 0.2165  0.1823 -0.9139 -0.2178\n",
      "[torch.FloatTensor of size 2x4]\n",
      "\n",
      "Size: torch.Size([2, 4])\n",
      "\n",
      "\n"
     ]
    }
   ],
   "source": [
    "x = torch.Tensor(5, 3)\n",
    "print(\"Non-initialized tensor x: {0}\".format(x))\n",
    "print(\"Size: {0}\\n\\n\".format(x.size()))\n",
    "\n",
    "y = torch.Tensor([[1,2,3],[4,5,6],[7,8,9]])\n",
    "print(\"Manually initialized tensor y: {0}\".format(y))\n",
    "print(\"Size: {0}\\n\\n\".format(y.size()))\n",
    "\n",
    "z = torch.rand(2, 4)\n",
    "print(\"Ramdomly initialized tensor z: {0}\".format(z))\n",
    "print(\"Size: {0}\\n\\n\".format(z.size()))"
   ]
  },
  {
   "cell_type": "markdown",
   "metadata": {
    "nbpresent": {
     "id": "c5f7a82d-f605-4d70-a27d-e973dfa2a61b"
    }
   },
   "source": [
    "### Basic operators"
   ]
  },
  {
   "cell_type": "code",
   "execution_count": 3,
   "metadata": {
    "collapsed": false,
    "nbpresent": {
     "id": "0adbb260-7164-46a6-b382-14157f014294"
    },
    "scrolled": true
   },
   "outputs": [],
   "source": [
    "# Tensors can be summed and multiplied by constant\n",
    "ones = torch.ones(3,4)\n",
    "print('ones: {0}'.format(ones))\n",
    "\n",
    "fours = ones * 4\n",
    "print('fours: {0}'.format(fours))\n",
    "\n",
    "fives = ones + fours\n",
    "print('fives: {0}'.format(fives))"
   ]
  },
  {
   "cell_type": "code",
   "execution_count": 6,
   "metadata": {
    "collapsed": false,
    "nbpresent": {
     "id": "6689fcbf-2707-4625-8588-3311e307f55c"
    }
   },
   "outputs": [],
   "source": [
    "a = torch.rand(2,3)\n",
    "b = torch.rand(3,4)\n",
    "\n",
    "# Matrix multiplication:\n",
    "c = torch.mm(a,b)\n",
    "\n",
    "print('a x b = {0}'.format(c))"
   ]
  },
  {
   "cell_type": "markdown",
   "metadata": {
    "nbpresent": {
     "id": "95f6f544-8b02-41c7-bb9a-1a1e52ad6227"
    }
   },
   "source": [
    "### Broadcasting"
   ]
  },
  {
   "cell_type": "code",
   "execution_count": 7,
   "metadata": {
    "collapsed": false,
    "nbpresent": {
     "id": "e960e0d7-ea45-4c0f-a72a-ee5c30278016"
    }
   },
   "outputs": [],
   "source": [
    "a = torch.ones(2,5)\n",
    "b = torch.ones(2,1) * 3.3\n",
    "\n",
    "# b of size (2, 1) is broadcasted to size (2,5)\n",
    "c = a + b\n",
    "print(\"c: {0}\".format(c))"
   ]
  },
  {
   "cell_type": "code",
   "execution_count": 31,
   "metadata": {
    "collapsed": true,
    "nbpresent": {
     "id": "6f3df267-08e1-4210-b5b5-96c562e5b110"
    }
   },
   "outputs": [
    {
     "name": "stdout",
     "output_type": "stream",
     "text": [
      "A: \n",
      " 8.2086  8.2086  8.2086  8.2086  8.2086  8.2086  8.2086  8.2086  8.2086  8.2086\n",
      " 9.2379  9.2379  9.2379  9.2379  9.2379  9.2379  9.2379  9.2379  9.2379  9.2379\n",
      " 7.0263  7.0263  7.0263  7.0263  7.0263  7.0263  7.0263  7.0263  7.0263  7.0263\n",
      "[torch.FloatTensor of size 3x10]\n",
      "\n"
     ]
    }
   ],
   "source": [
    "W = torch.rand(3, 5) # weights\n",
    "X = torch.ones(5, 10) * 3 # data\n",
    "b = torch.ones(3, 1) * 0.3 # biases, broadcastable to WX.size()\n",
    "\n",
    "# WX+b\n",
    "A = torch.addmm(b, W, X)\n",
    "\n",
    "print(\"A: {0}\".format(A))"
   ]
  },
  {
   "cell_type": "markdown",
   "metadata": {
    "nbpresent": {
     "id": "a0cc8033-3c37-462e-bd53-b0f92827bd6f"
    }
   },
   "source": [
    "###  PyTorch-Numpy interaction"
   ]
  },
  {
   "cell_type": "code",
   "execution_count": 11,
   "metadata": {
    "collapsed": false,
    "nbpresent": {
     "id": "cb71240b-6e35-400d-84c8-ed652c8e300c"
    }
   },
   "outputs": [],
   "source": [
    "a = np.ones((2, 3))        # create numpy array\n",
    "a_pt = torch.from_numpy(a) # convert to PyTorch tensor\n",
    "\n",
    "\n",
    "# a and a_pt share the same memory: if a is changed, a_pt also changes and vice versa\n",
    "a[1,1] = 57\n",
    "print(\"a_pt: {0}\".format(a_pt))"
   ]
  },
  {
   "cell_type": "code",
   "execution_count": 12,
   "metadata": {
    "collapsed": false,
    "nbpresent": {
     "id": "4a6d5483-0dbc-4972-8db4-40cb4d915a98"
    }
   },
   "outputs": [],
   "source": [
    "b = torch.ones(3,3) * 7.\n",
    "b_np = b.numpy()\n",
    "\n",
    "# likewise, b and b_np share same memory\n",
    "b[1,2] = 57\n",
    "print(\"b_np: {0}\".format(b_np))"
   ]
  },
  {
   "cell_type": "markdown",
   "metadata": {
    "nbpresent": {
     "id": "eaa4ea7a-d32e-4bf3-b40d-d27e67c8ccf8"
    }
   },
   "source": [
    "### Autograd"
   ]
  },
  {
   "cell_type": "markdown",
   "metadata": {
    "nbpresent": {
     "id": "b2523525-d625-467a-ae3d-1479b8ec2e59"
    }
   },
   "source": [
    "Autograd is a module that allows to compute gradients automatically (suddenly, right?).\n",
    "\n",
    "Lets implement easist use-case of Autograd:\n",
    "* declare initial tensor 'x' (that we want to 'learn' for example)\n",
    "* perform some computations on it and calculate final tensor 'out'\n",
    "* automatically calculate derivative d(out)/d(x)"
   ]
  },
  {
   "cell_type": "code",
   "execution_count": 3,
   "metadata": {
    "collapsed": true,
    "nbpresent": {
     "id": "25d33132-b2d3-4eb5-a1bf-e46b23b54298"
    }
   },
   "outputs": [],
   "source": [
    "from torch.autograd import Variable"
   ]
  },
  {
   "cell_type": "code",
   "execution_count": 13,
   "metadata": {
    "collapsed": false,
    "nbpresent": {
     "id": "ba9c846e-aace-4c18-8011-b3dfc2bd47bb"
    }
   },
   "outputs": [],
   "source": [
    "x = Variable(torch.ones(2, 2), requires_grad=True) # requires_grad=True so we want to compute gradient of it\n",
    "\n",
    "# some computations\n",
    "y = x + 2\n",
    "z = y * y * 3\n",
    "out = z.mean()\n",
    "\n",
    "# calculate d(out) / d(x)\n",
    "out.backward() \n",
    "\n",
    "# Tadaa\n",
    "print(\"d(out)/d(x) = {0}\".format(x.grad)) "
   ]
  },
  {
   "cell_type": "markdown",
   "metadata": {
    "nbpresent": {
     "id": "c69795eb-812d-4538-a8c1-2bd4ae3f84b1"
    }
   },
   "source": [
    "### Lets classify stuff!"
   ]
  },
  {
   "cell_type": "markdown",
   "metadata": {
    "nbpresent": {
     "id": "ed2cfdb9-6320-4c5b-b7ca-72e568bf57f9"
    }
   },
   "source": [
    "#### Load data"
   ]
  },
  {
   "cell_type": "markdown",
   "metadata": {
    "nbpresent": {
     "id": "a0807cc2-1004-408f-a579-806ca8c6109a"
    }
   },
   "source": [
    "First, load CIFAR dataset using code below. It consists of 60K 32x32 images (50K for training set and 10K for test set) and can be classified into 10 classes."
   ]
  },
  {
   "cell_type": "code",
   "execution_count": 72,
   "metadata": {
    "collapsed": false,
    "nbpresent": {
     "id": "01d7aca0-e508-48b5-9f53-6e1c4b2919dc"
    }
   },
   "outputs": [],
   "source": [
    "import torchvision\n",
    "import torchvision.transforms as transforms\n",
    "import torch.nn.functional as F\n",
    "from torch import nn\n",
    "import torch.optim as optim\n",
    "from torch.nn import Module, Linear, ModuleList, Sequential\n"
   ]
  },
  {
   "cell_type": "code",
   "execution_count": 73,
   "metadata": {
    "collapsed": false,
    "nbpresent": {
     "id": "0c36ff7e-002b-4983-a18e-4d6d2b078ac7"
    }
   },
   "outputs": [
    {
     "name": "stdout",
     "output_type": "stream",
     "text": [
      "Files already downloaded and verified\n",
      "Files already downloaded and verified\n"
     ]
    }
   ],
   "source": [
    "transform = transforms.Compose(\n",
    "    [transforms.ToTensor(),\n",
    "     transforms.Normalize((0.5, 0.5, 0.5), (0.5, 0.5, 0.5))])\n",
    "\n",
    "trainset = torchvision.datasets.CIFAR10(root='./data', train=True,\n",
    "                                        download=True, transform=transform)\n",
    "trainloader = torch.utils.data.DataLoader(trainset, batch_size=4,\n",
    "                                          shuffle=True, num_workers=2)\n",
    "\n",
    "testset = torchvision.datasets.CIFAR10(root='./data', train=False,\n",
    "                                       download=True, transform=transform)\n",
    "testloader = torch.utils.data.DataLoader(testset, batch_size=4,\n",
    "                                         shuffle=False, num_workers=2)\n",
    "\n",
    "classes = ('plane', 'car', 'bird', 'cat',\n",
    "           'deer', 'dog', 'frog', 'horse', 'ship', 'truck')"
   ]
  },
  {
   "cell_type": "code",
   "execution_count": 6,
   "metadata": {
    "collapsed": false,
    "nbpresent": {
     "id": "dfa93022-ef63-4e86-b26a-b98f532de98e"
    }
   },
   "outputs": [
    {
     "name": "stdout",
     "output_type": "stream",
     "text": [
      "  dog  ship  deer   cat\n"
     ]
    },
    {
     "data": {
      "image/png": "[encoded data removed]",
      "text/plain": [
       "<matplotlib.figure.Figure at 0x7f2d838deef0>"
      ]
     },
     "metadata": {},
     "output_type": "display_data"
    }
   ],
   "source": [
    "import matplotlib.pyplot as plt\n",
    "import numpy as np\n",
    "%matplotlib inline\n",
    "\n",
    "\n",
    "# functions to show an image\n",
    "def imshow(img):\n",
    "    img = img / 2 + 0.5     # unnormalize\n",
    "    npimg = img.numpy()\n",
    "    plt.imshow(np.transpose(npimg, (1, 2, 0)))\n",
    "\n",
    "\n",
    "# get some random training images\n",
    "dataiter = iter(trainloader)\n",
    "images, labels = dataiter.next()\n",
    "\n",
    "# show images\n",
    "imshow(torchvision.utils.make_grid(images))\n",
    "# print labels\n",
    "print(' '.join('%5s' % classes[labels[j]] for j in range(4)))"
   ]
  },
  {
   "cell_type": "code",
   "execution_count": 74,
   "metadata": {
    "collapsed": false,
    "nbpresent": {
     "id": "7deb1b8d-4e06-4591-ba50-49ab8a3b9d72"
    }
   },
   "outputs": [
    {
     "name": "stdout",
     "output_type": "stream",
     "text": [
      "Data dimensionality: 3072\n",
      "Number of classes: 10\n"
     ]
    }
   ],
   "source": [
    "train_size = trainset.train_data.shape[0]\n",
    "test_size = testset.test_data.shape[0]\n",
    "\n",
    "X_train = Variable(torch.from_numpy(trainset.train_data.reshape(train_size, -1))).float()\n",
    "y_train = Variable(torch.Tensor(trainset.train_labels).long())\n",
    "\n",
    "\n",
    "X_test = Variable(torch.from_numpy(testset.test_data.reshape(test_size, -1))).float()\n",
    "y_test = Variable(torch.Tensor(testset.test_labels).long())\n",
    "\n",
    "input_dims = X_train.size()[1]\n",
    "output_dims = len(classes)\n",
    "\n",
    "print(\"Data dimensionality: {0}\".format(input_dims))\n",
    "print(\"Number of classes: {0}\".format(output_dims))"
   ]
  },
  {
   "cell_type": "markdown",
   "metadata": {
    "nbpresent": {
     "id": "3d9c7a1e-da07-4fed-9022-49cb91b5e70e"
    }
   },
   "source": [
    "Warmup: print out tensor sizes of X_train and y_train:"
   ]
  },
  {
   "cell_type": "code",
   "execution_count": 14,
   "metadata": {
    "collapsed": false,
    "nbpresent": {
     "id": "f6507644-6364-4999-974c-bf2448e80fd5"
    }
   },
   "outputs": [],
   "source": [
    "X_train_size = None\n",
    "y_train_size = None\n",
    "\n",
    "print(\"X_train size: {0}\".format(X_train_size))\n",
    "print(\"y_train size: {0}\".format(y_train_size))"
   ]
  },
  {
   "cell_type": "markdown",
   "metadata": {
    "nbpresent": {
     "id": "9b25b2ec-6cd4-4f42-9794-f5bf183daef0"
    }
   },
   "source": [
    "Now, let's build the simpliest machine learning model for data classification: logistic regression.\n",
    "Of course, PyTorch has a built-it function for it, but first, let's try to implement our own LogReg module to understand how PyTorch Modules work."
   ]
  },
  {
   "cell_type": "code",
   "execution_count": 15,
   "metadata": {
    "collapsed": false,
    "nbpresent": {
     "id": "de426767-8961-42ad-a532-0b330de3f151"
    }
   },
   "outputs": [],
   "source": [
    "class LogReg(Module):\n",
    "    \n",
    "    def __init__(self):\n",
    "        super(LogReg, self).__init__()\n",
    "        \n",
    "        # Create W matrix, it should me a Variable created from a random tensor of shape (input_dims x output_dims)\n",
    "        self.W = None\n",
    "        \n",
    "        # Initialize biases with a Variable of zeros of size (1 x output_dims)\n",
    "        self.b = None\n",
    "\n",
    "    # parameters are those wariables that you want to optimize. Usually, this method is created for us autometically.\n",
    "    def parameters(self):\n",
    "        return [self.W, self.b]\n",
    "        \n",
    "    def forward(self, x):\n",
    "        # Use torch.addmm() to compute xW + b\n",
    "        x = None\n",
    "        return x\n",
    "        "
   ]
  },
  {
   "cell_type": "code",
   "execution_count": 49,
   "metadata": {
    "collapsed": true,
    "nbpresent": {
     "id": "2fae00bb-b194-4fcf-b23f-61f0a3ba7be6"
    }
   },
   "outputs": [],
   "source": [
    "# create object of our model\n",
    "logr = LogReg()"
   ]
  },
  {
   "cell_type": "code",
   "execution_count": 78,
   "metadata": {
    "collapsed": false,
    "nbpresent": {
     "id": "4766700c-5428-4371-ae08-5801c8c5407f"
    }
   },
   "outputs": [],
   "source": [
    "# loss function\n",
    "criterion = torch.nn.CrossEntropyLoss()\n",
    "\n",
    "# optimizer that optimizes parameters of our model\n",
    "optimizer = optim.Adam(logr.parameters(), lr=0.0001)"
   ]
  },
  {
   "cell_type": "markdown",
   "metadata": {
    "nbpresent": {
     "id": "76360e4b-ea1a-44e1-a89f-f47c7515a02f"
    }
   },
   "source": [
    "Now it's time to train our model!"
   ]
  },
  {
   "cell_type": "code",
   "execution_count": 16,
   "metadata": {
    "collapsed": false,
    "nbpresent": {
     "id": "76b586c4-edaa-4417-b2b5-9dce4ffed47a"
    }
   },
   "outputs": [],
   "source": [
    "for i in range(1000):\n",
    "    # zero gradients before each time we are to compute them\n",
    "    optimizer.zero_grad()\n",
    "    \n",
    "    # calculate training predictions\n",
    "    preds = logr(X_train)\n",
    "\n",
    "    # calculate loss\n",
    "    loss = criterion(preds, y_train)\n",
    "    \n",
    "    # compute gradients\n",
    "    loss.backward()\n",
    "    \n",
    "    # and optimize them\n",
    "    optimizer.step()\n",
    "    \n",
    "    if i % 10 == 9:\n",
    "        preds_test = logr(X_test)\n",
    "        loss_test = criterion(preds_test, y_test)\n",
    "        \n",
    "        _, predicted = torch.max(preds_test, 1)\n",
    "        accuracy = (predicted.data == y_test.data).sum() / test_size\n",
    "\n",
    "        print('[{0}] test loss: {1} \\t test accuracy: {2}'.format(i, loss_test.data[0], accuracy))"
   ]
  },
  {
   "cell_type": "markdown",
   "metadata": {
    "nbpresent": {
     "id": "1c3e4ef1-b622-4638-949d-6e30f78779fa"
    }
   },
   "source": [
    "#### More idiomatic logistic regression."
   ]
  },
  {
   "cell_type": "markdown",
   "metadata": {
    "nbpresent": {
     "id": "dbb020d7-4b8e-4b0a-b4e6-b338581e4b02"
    }
   },
   "source": [
    "And here is how it can be done in one line. It also works faster than by-hands implementation."
   ]
  },
  {
   "cell_type": "code",
   "execution_count": 17,
   "metadata": {
    "collapsed": false,
    "nbpresent": {
     "id": "2df3b496-3529-454e-af9f-2076a61a62ac"
    }
   },
   "outputs": [],
   "source": [
    "logistic_regression = nn.Linear(input_dims, output_dims)"
   ]
  },
  {
   "cell_type": "code",
   "execution_count": 81,
   "metadata": {
    "collapsed": true,
    "nbpresent": {
     "id": "e600d40d-9c23-4087-ad38-e872a67b59c3"
    }
   },
   "outputs": [],
   "source": [
    "criterion = torch.nn.CrossEntropyLoss()\n",
    "optimizer = optim.Adam(logistic_regression.parameters(), lr=0.0001)"
   ]
  },
  {
   "cell_type": "code",
   "execution_count": 18,
   "metadata": {
    "collapsed": false,
    "nbpresent": {
     "id": "e94bf818-f3a2-427e-8f4b-381fb2368506"
    }
   },
   "outputs": [],
   "source": [
    "for i in range(1000):\n",
    "    # zero gradients before each time we are to compute them\n",
    "    optimizer.zero_grad()\n",
    "    \n",
    "    # calculate training predictions\n",
    "    preds = logistic_regression(X_train)\n",
    "\n",
    "    # calculate loss\n",
    "    loss = criterion(preds, y_train)\n",
    "    \n",
    "    # compute gradients\n",
    "    loss.backward()\n",
    "    \n",
    "    # and optimize them\n",
    "    optimizer.step()\n",
    "    \n",
    "    if i % 10 == 9:\n",
    "        preds_test = logistic_regression(X_test)\n",
    "        loss_test = criterion(preds_test, y_test)\n",
    "        _, predicted = torch.max(preds_test, 1)\n",
    "        accuracy = (predicted.data == y_test.data).sum() / test_size\n",
    "\n",
    "        print('[{0}] test loss: {1} \\t test accuracy: {2}'.format(i, loss_test.data[0], accuracy))"
   ]
  },
  {
   "cell_type": "markdown",
   "metadata": {
    "nbpresent": {
     "id": "7cdc19da-5137-44dc-bfa9-7307f2ec1648"
    }
   },
   "source": [
    "#### 2. Two layers nn"
   ]
  },
  {
   "cell_type": "markdown",
   "metadata": {
    "nbpresent": {
     "id": "51afbc83-a1f2-41fc-a475-f2b459367107"
    }
   },
   "source": [
    "Now to something more complex. Each linear module that we used to implement logistic regression can be used as a layer of a multilayer perceptron. Let's build two-layer MLP with one hidden layer and one output layer.\n",
    "\n",
    "Tip: Peek at the one-line logistic regression implementation."
   ]
  },
  {
   "cell_type": "code",
   "execution_count": 83,
   "metadata": {
    "collapsed": true,
    "nbpresent": {
     "id": "37eaf99c-ffc7-4d8b-8e36-fff6323b2937"
    }
   },
   "outputs": [],
   "source": [
    "class TwoLayerNN(Module):\n",
    "    def __init__(self, n_x, n_h, n_y):\n",
    "        super(TwoLayerNN, self).__init__()\n",
    "        \n",
    "        # linear module that maps vectors of size n_x to n_h\n",
    "        self.lin1 = None\n",
    "        \n",
    "        # same for dimensionalities n_h and n_y\n",
    "        self.lin2 = None\n",
    "        \n",
    "    def forward(self, x):\n",
    "        x = F.tanh(self.lin1(x))\n",
    "        x = self.lin2(x)\n",
    "        return x"
   ]
  },
  {
   "cell_type": "code",
   "execution_count": 84,
   "metadata": {
    "collapsed": false,
    "nbpresent": {
     "id": "96f6dd9c-3537-429c-bbc8-3ddb74f432c3"
    }
   },
   "outputs": [],
   "source": [
    "# Create an object of 2-layer MLP with 128 hidden units.\n",
    "twolayernn = None"
   ]
  },
  {
   "cell_type": "code",
   "execution_count": 85,
   "metadata": {
    "collapsed": true,
    "nbpresent": {
     "id": "a4360d2c-9211-4636-9d81-1da6dd9d1485"
    }
   },
   "outputs": [],
   "source": [
    "criterion = torch.nn.CrossEntropyLoss()\n",
    "optimizer = optim.Adam(twolayernn.parameters(), lr=0.0001)"
   ]
  },
  {
   "cell_type": "code",
   "execution_count": 19,
   "metadata": {
    "collapsed": false,
    "nbpresent": {
     "id": "5cf52fc6-095c-4be5-885d-0862d5ce345f"
    }
   },
   "outputs": [],
   "source": [
    "for i in range(1000):\n",
    "    # zero gradients before each time we are to compute them\n",
    "    optimizer.zero_grad()\n",
    "    \n",
    "    # calculate training predictions\n",
    "    preds = twolayernn(X_train)\n",
    "\n",
    "    # calculate loss\n",
    "    loss = criterion(preds, y_train)\n",
    "    \n",
    "    # compute gradients\n",
    "    loss.backward()\n",
    "    \n",
    "    # and optimize them\n",
    "    optimizer.step()\n",
    "    \n",
    "    if i % 10 == 9:\n",
    "        preds_test = twolayernn(X_test)\n",
    "        loss_test = criterion(preds_test, y_test)\n",
    "        _, predicted = torch.max(preds_test, 1)\n",
    "        accuracy = (predicted.data == y_test.data).sum() / test_size\n",
    "\n",
    "        print('[{0}] test loss: {1} \\t test accuracy: {2}'.format(i, loss_test.data[0], accuracy))"
   ]
  },
  {
   "cell_type": "markdown",
   "metadata": {
    "nbpresent": {
     "id": "f855611b-3ee3-4203-a43d-ff8dfe91e75b"
    }
   },
   "source": [
    "#### Multilayer perceptron"
   ]
  },
  {
   "cell_type": "markdown",
   "metadata": {
    "nbpresent": {
     "id": "96708b4a-a527-493d-ac66-f6c5c4327df8"
    }
   },
   "source": [
    "Next step is to create MLP with arbitrary number of layers. For that purpose we can use a module called Sequential\n",
    "\n",
    "    self.seq = Sequential()\n",
    "\n",
    "After that you can add modules to it that will sequentially process you data:\n",
    "\n",
    "    self.seq.add_module(\"Module name\", *module*)"
   ]
  },
  {
   "cell_type": "code",
   "execution_count": 36,
   "metadata": {
    "collapsed": true,
    "nbpresent": {
     "id": "d943ff81-b4d5-4ab8-9ee5-d8b5ec182fb5"
    }
   },
   "outputs": [],
   "source": [
    "class MLP(Module):\n",
    "    \n",
    "    # layer_dims is a list of layer's dimensionalities starting from input data dimensionality\n",
    "    # e.g. for previout example it would be [input_dims, 128, output_dims]\n",
    "    def __init__(self, layer_dims):\n",
    "        super(MLP, self).__init__()\n",
    "        \n",
    "        \n",
    "        nlayers = len(layer_dims)\n",
    "        self.seq = Sequential()\n",
    "        \n",
    "        modules = []\n",
    "        for l in range(1, nlayers): \n",
    "            \n",
    "            # Add a Linear module of dimensionalities from layer_dims\n",
    "            # TODO: (One line)\n",
    "            \n",
    "            if l != nlayers - 1:\n",
    "                self.seq.add_module(\"Tanh{0}\".format(l), torch.nn.Tanh())\n",
    "\n",
    "                \n",
    "        \n",
    "        \n",
    "    def forward(self, x):\n",
    "        x = self.seq(x)\n",
    "        return x"
   ]
  },
  {
   "cell_type": "code",
   "execution_count": 37,
   "metadata": {
    "collapsed": false,
    "nbpresent": {
     "id": "d9a7e355-4588-44a9-978e-a9f835ecdc17"
    }
   },
   "outputs": [],
   "source": [
    "mlp = MLP([input_dims, 128, 64, output_dims])"
   ]
  },
  {
   "cell_type": "code",
   "execution_count": 38,
   "metadata": {
    "collapsed": false,
    "nbpresent": {
     "id": "90ab5fbe-c6e6-4204-b9bd-1265de8a2a1a"
    }
   },
   "outputs": [],
   "source": [
    "criterion = torch.nn.CrossEntropyLoss()\n",
    "optimizer = optim.Adam(mlp.parameters(), lr=0.0001)"
   ]
  },
  {
   "cell_type": "code",
   "execution_count": 20,
   "metadata": {
    "collapsed": false,
    "nbpresent": {
     "id": "c07682b2-dfb6-4ff1-906a-99eec8b6d5d0"
    }
   },
   "outputs": [],
   "source": [
    "for i in range(1000):   \n",
    "\n",
    "    # zero gradients before each time we are to compute them\n",
    "    optimizer.zero_grad()\n",
    "    \n",
    "    # calculate training predictions\n",
    "    preds = mlp(X_train)\n",
    "\n",
    "    # calculate loss\n",
    "    loss = criterion(preds, y_train)\n",
    "    \n",
    "    # compute gradients\n",
    "    loss.backward()\n",
    "    \n",
    "    # and optimize them\n",
    "    optimizer.step()\n",
    "\n",
    "    if i % 10 == 9:\n",
    "        preds_test = mlp(X_test)\n",
    "        loss_test = criterion(preds_test, y_test)\n",
    "        _, predicted = torch.max(preds_test, 1)\n",
    "        accuracy = (predicted.data == y_test.data).sum() / test_size\n",
    "\n",
    "        print('[{0}] test loss: {1} \\t test accuracy: {2}'.format(i, loss_test.data[0], accuracy))"
   ]
  },
  {
   "cell_type": "markdown",
   "metadata": {
    "collapsed": false,
    "nbpresent": {
     "id": "7599da4d-b7ca-4bd5-89fc-34f9ec69d041"
    }
   },
   "source": [
    "#### Convolutional net"
   ]
  },
  {
   "cell_type": "markdown",
   "metadata": {
    "nbpresent": {
     "id": "0526065c-6043-4a4b-a14b-b30878ad36f9"
    }
   },
   "source": [
    "Here is a idiomatic way to classify images -- use convolutional neural networks!\n",
    "\n",
    "If you are aquainted with CNNs it would be easy to guess what Conv2d and MaxPool2d layers do.\n",
    "\n",
    "This code is taken from official tutorial: http://pytorch.org/tutorials/beginner/blitz/cifar10_tutorial.html#sphx-glr-beginner-blitz-cifar10-tutorial-py\n",
    "\n",
    "Run it and see how better convolutional model works for images than MLP"
   ]
  },
  {
   "cell_type": "code",
   "execution_count": 9,
   "metadata": {
    "collapsed": true,
    "nbpresent": {
     "id": "a43b2665-fe8d-4198-afea-e893fea58be8"
    }
   },
   "outputs": [],
   "source": [
    "class ConvNet(Module):\n",
    "    def __init__(self):\n",
    "        super(ConvNet, self).__init__()\n",
    "        self.conv1 = nn.Conv2d(3, 6, 5)\n",
    "        self.pool = nn.MaxPool2d(2, 2)\n",
    "        self.conv2 = nn.Conv2d(6, 16, 5)\n",
    "        self.fc1 = nn.Linear(16 * 5 * 5, 120)\n",
    "        self.fc2 = nn.Linear(120, 84)\n",
    "        self.fc3 = nn.Linear(84, 10)\n",
    "\n",
    "    def forward(self, x):\n",
    "        x = self.pool(F.relu(self.conv1(x)))\n",
    "        x = self.pool(F.relu(self.conv2(x)))\n",
    "        x = x.view(-1, 16 * 5 * 5)\n",
    "        x = F.relu(self.fc1(x))\n",
    "        x = F.relu(self.fc2(x))\n",
    "        x = self.fc3(x)\n",
    "        return x"
   ]
  },
  {
   "cell_type": "code",
   "execution_count": 10,
   "metadata": {
    "collapsed": false,
    "nbpresent": {
     "id": "dd8848c0-bc52-4a69-8108-b4891093744d"
    }
   },
   "outputs": [],
   "source": [
    "convnet = ConvNet()"
   ]
  },
  {
   "cell_type": "code",
   "execution_count": 11,
   "metadata": {
    "collapsed": false,
    "nbpresent": {
     "id": "12900ad8-908c-4b5b-945c-8e670dd81b1b"
    }
   },
   "outputs": [],
   "source": [
    "criterion = torch.nn.CrossEntropyLoss()\n",
    "optimizer = optim.Adam(convnet.parameters(), lr=0.0001)"
   ]
  },
  {
   "cell_type": "code",
   "execution_count": 21,
   "metadata": {
    "collapsed": false,
    "nbpresent": {
     "id": "044d65d6-4ac8-4493-b40e-dc49193f72e0"
    }
   },
   "outputs": [],
   "source": [
    "for epoch in range(2):  # loop over the dataset multiple times\n",
    "\n",
    "    running_loss = 0.0\n",
    "    for i, data in enumerate(trainloader, 0):\n",
    "        # get the inputs\n",
    "        inputs, labels = data\n",
    "\n",
    "        # wrap them in Variable\n",
    "        inputs, labels = Variable(inputs), Variable(labels)\n",
    "\n",
    "        # zero the parameter gradients\n",
    "        optimizer.zero_grad()\n",
    "\n",
    "        # forward + backward + optimize\n",
    "        outputs = convnet(inputs)\n",
    "        loss = criterion(outputs, labels)\n",
    "        loss.backward()\n",
    "        optimizer.step()\n",
    "\n",
    "        # print statistics\n",
    "        running_loss += loss.data[0]\n",
    "        if i % 2000 == 1999:    # print every 2000 mini-batches\n",
    "            print('[%d, %5d] loss: %.3f' %\n",
    "                  (epoch + 1, i + 1, running_loss / 2000))\n",
    "            running_loss = 0.0\n",
    "\n",
    "print('Finished Training')"
   ]
  },
  {
   "cell_type": "code",
   "execution_count": 44,
   "metadata": {
    "collapsed": false,
    "nbpresent": {
     "id": "077c5a4e-1093-4c98-ae5e-05ea1fa26d09"
    }
   },
   "outputs": [
    {
     "name": "stdout",
     "output_type": "stream",
     "text": [
      "Accuracy of the network on the 10000 test images: 54 %\n"
     ]
    }
   ],
   "source": [
    "correct = 0\n",
    "total = 0\n",
    "for data in testloader:\n",
    "    images, labels = data\n",
    "    outputs = convnet(Variable(images))\n",
    "    _, predicted = torch.max(outputs.data, 1)\n",
    "    total += labels.size(0)\n",
    "    correct += (predicted == labels).sum()\n",
    "\n",
    "print('Accuracy of the network on the 10000 test images: %d %%' % (\n",
    "    100 * correct / total))"
   ]
  }
 ],
 "metadata": {
  "anaconda-cloud": {},
  "kernelspec": {
   "display_name": "Python [conda root]",
   "language": "python",
   "name": "conda-root-py"
  },
  "language_info": {
   "codemirror_mode": {
    "name": "ipython",
    "version": 3
   },
   "file_extension": ".py",
   "mimetype": "text/x-python",
   "name": "python",
   "nbconvert_exporter": "python",
   "pygments_lexer": "ipython3",
   "version": "3.5.2"
  }
 },
 "nbformat": 4,
 "nbformat_minor": 1
}
